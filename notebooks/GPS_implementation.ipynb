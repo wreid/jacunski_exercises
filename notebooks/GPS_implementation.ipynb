{
 "metadata": {
  "name": "",
  "signature": "sha256:d96dddda21d90c45a20b2a81e09e7a740f091408122b415ff9124e75c1941b2d"
 },
 "nbformat": 3,
 "nbformat_minor": 0,
 "worksheets": [
  {
   "cells": [
    {
     "cell_type": "code",
     "collapsed": false,
     "input": [
      "import networkx as nx\n",
      "import matplotlib.pyplot as plt\n",
      "import numpy as np\n",
      "from ../python_scripts/ppi_network import *"
     ],
     "language": "python",
     "metadata": {},
     "outputs": [
      {
       "ename": "SyntaxError",
       "evalue": "invalid syntax (<ipython-input-5-f6aee996b5f6>, line 4)",
       "output_type": "pyerr",
       "traceback": [
        "\u001b[0;36m  File \u001b[0;32m\"<ipython-input-5-f6aee996b5f6>\"\u001b[0;36m, line \u001b[0;32m4\u001b[0m\n\u001b[0;31m    from '../python_scripts/ppi_network' import *\u001b[0m\n\u001b[0m                                       ^\u001b[0m\n\u001b[0;31mSyntaxError\u001b[0m\u001b[0;31m:\u001b[0m invalid syntax\n"
       ]
      }
     ],
     "prompt_number": 5
    },
    {
     "cell_type": "code",
     "collapsed": false,
     "input": [
      "G = nx.Graph()\n",
      "load_txt('/Users/williamreid/Documents/Jacunski/work/human_out.txt', G)\n",
      "del_dupl(G)\n",
      "mG = largest_component(G)"
     ],
     "language": "python",
     "metadata": {},
     "outputs": [
      {
       "output_type": "stream",
       "stream": "stdout",
       "text": [
        "93 nodes removed\n",
        "43 components removed\n",
        "13308 nodes and 69273 edges in main component\n"
       ]
      },
      {
       "output_type": "stream",
       "stream": "stdout",
       "text": [
        "\n"
       ]
      }
     ],
     "prompt_number": 12
    },
    {
     "cell_type": "code",
     "collapsed": false,
     "input": [
      "l = nx.shortest_path_length(mG)"
     ],
     "language": "python",
     "metadata": {},
     "outputs": [],
     "prompt_number": 14
    },
    {
     "cell_type": "code",
     "collapsed": false,
     "input": [
      "nodes = mG.nodes()"
     ],
     "language": "python",
     "metadata": {},
     "outputs": [
      {
       "ename": "NameError",
       "evalue": "name 'mG' is not defined",
       "output_type": "pyerr",
       "traceback": [
        "\u001b[0;31m---------------------------------------------------------------------------\u001b[0m\n\u001b[0;31mNameError\u001b[0m                                 Traceback (most recent call last)",
        "\u001b[0;32m<ipython-input-2-c7218b68a121>\u001b[0m in \u001b[0;36m<module>\u001b[0;34m()\u001b[0m\n\u001b[0;32m----> 1\u001b[0;31m \u001b[0mnodes\u001b[0m \u001b[0;34m=\u001b[0m \u001b[0mmG\u001b[0m\u001b[0;34m.\u001b[0m\u001b[0mnodes\u001b[0m\u001b[0;34m(\u001b[0m\u001b[0;34m)\u001b[0m\u001b[0;34m\u001b[0m\u001b[0m\n\u001b[0m",
        "\u001b[0;31mNameError\u001b[0m: name 'mG' is not defined"
       ]
      }
     ],
     "prompt_number": 2
    },
    {
     "cell_type": "code",
     "collapsed": false,
     "input": [
      "print l['FLNC']['ARF3']"
     ],
     "language": "python",
     "metadata": {},
     "outputs": [
      {
       "output_type": "stream",
       "stream": "stdout",
       "text": [
        "3\n"
       ]
      }
     ],
     "prompt_number": 21
    },
    {
     "cell_type": "code",
     "collapsed": false,
     "input": [
      "coords = [[] for i in range(len(nodes))]\n",
      "# only 50 towers\n",
      "x = [i+1 for i in range(50)]\n",
      "#x = [i for i in range(100)]\n",
      "y = []\n",
      "#for i in range(100):\n",
      "for i in range(50):\n",
      "    # print \"Starting node %d...\" % i\n",
      "    maxset = 0\n",
      "    for n, g1 in enumerate(ndict):\n",
      "        # used deepcopy() to avoid iterating over coords\n",
      "        temp_coords = copy.deepcopy(coords)\n",
      "        #temp_coords = [a for a in coords]\n",
      "        for m,g2 in enumerate(nodes):\n",
      "            temp_coords[m].append(l[g1][g2])\n",
      "        coord_set = list(set([tuple(a) for a in temp_coords]))\n",
      "        if len(coord_set) > maxset:\n",
      "            towergene = g1\n",
      "            set_size = len(coord_set)\n",
      "            new_coords = [ a for a in temp_coords]\n",
      "            maxset = set_size\n",
      "    coords = copy.deepcopy(new_coords)\n",
      "    ndict.pop(towergene,None)\n",
      "    y.append(set_size)"
     ],
     "language": "python",
     "metadata": {},
     "outputs": []
    }
   ],
   "metadata": {}
  }
 ]
}